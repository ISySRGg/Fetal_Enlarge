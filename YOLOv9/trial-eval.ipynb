{
 "cells": [
  {
   "cell_type": "code",
   "execution_count": 1,
   "metadata": {},
   "outputs": [
    {
     "name": "stdout",
     "output_type": "stream",
     "text": [
      "Ultralytics YOLOv8.2.2  Python-3.9.18 torch-2.0.0+cu118 CUDA:0 (NVIDIA GeForce RTX 2080 Ti, 11264MiB)\n",
      "YOLOv9c-seg summary (fused): 411 layers, 27626070 parameters, 0 gradients, 157.6 GFLOPs\n"
     ]
    },
    {
     "name": "stderr",
     "output_type": "stream",
     "text": [
      "\u001b[34m\u001b[1mval: \u001b[0mScanning D:\\CODE\\06 Cardiomegali\\P2\\code\\yolov9-main\\datasets\\cardiomegali\\labels\\unseen... 24 images, 0 backgrounds, 0 corrupt: 100%|██████████| 24/24 [00:00<00:00, 510.65it/s]"
     ]
    },
    {
     "name": "stdout",
     "output_type": "stream",
     "text": [
      "\u001b[34m\u001b[1mval: \u001b[0mWARNING  D:\\CODE\\06 Cardiomegali\\P2\\code\\yolov9-main\\datasets\\cardiomegali\\images\\unseen\\EA3_55.jpg: 1 duplicate labels removed\n",
      "\u001b[34m\u001b[1mval: \u001b[0mWARNING  D:\\CODE\\06 Cardiomegali\\P2\\code\\yolov9-main\\datasets\\cardiomegali\\images\\unseen\\NR11_103.jpg: 6 duplicate labels removed\n",
      "\u001b[34m\u001b[1mval: \u001b[0mNew cache created: D:\\CODE\\06 Cardiomegali\\P2\\code\\yolov9-main\\datasets\\cardiomegali\\labels\\unseen.cache\n"
     ]
    },
    {
     "name": "stderr",
     "output_type": "stream",
     "text": [
      "\n",
      "                 Class     Images  Instances      Box(P          R      mAP50  mAP50-95)     Mask(P          R      mAP50  mAP50-95): 100%|██████████| 2/2 [00:02<00:00,  1.11s/it]\n"
     ]
    },
    {
     "name": "stdout",
     "output_type": "stream",
     "text": [
      "                   all         24         48       0.98      0.874      0.933      0.594      0.883      0.683      0.785       0.37\n",
      "                    CC         24         24          1      0.957      0.995      0.584      0.823      0.667      0.742      0.184\n",
      "                    HC         24         24      0.961      0.792      0.872      0.604      0.944      0.699      0.828      0.556\n",
      "Speed: 0.6ms preprocess, 14.4ms inference, 0.0ms loss, 6.0ms postprocess per image\n",
      "Results saved to \u001b[1mruns\\segment\\val\u001b[0m\n"
     ]
    },
    {
     "data": {
      "text/plain": [
       "array([    0.18429,     0.55551])"
      ]
     },
     "execution_count": 1,
     "metadata": {},
     "output_type": "execute_result"
    }
   ],
   "source": [
    "from ultralytics import YOLO\n",
    "\n",
    "# Load a model\n",
    "model = YOLO('yolov9c-seg.pt')  # load an official model\n",
    "model = YOLO('runs/segment/yv9c-new/weights/best.pt')  # load a custom model\n",
    "\n",
    "# Validate the model\n",
    "metrics = model.val()  # no arguments needed, dataset and settings remembered\n",
    "metrics.box.map    # map50-95(B)\n",
    "metrics.box.map50  # map50(B)\n",
    "metrics.box.map75  # map75(B)\n",
    "metrics.box.maps   # a list contains map50-95(B) of each category\n",
    "metrics.seg.map    # map50-95(M)\n",
    "metrics.seg.map50  # map50(M)\n",
    "metrics.seg.map75  # map75(M)\n",
    "metrics.seg.maps   # a list contains map50-95(M) of each category"
   ]
  },
  {
   "cell_type": "code",
   "execution_count": 2,
   "metadata": {},
   "outputs": [
    {
     "name": "stdout",
     "output_type": "stream",
     "text": [
      "\n",
      "image 1/24 D:\\CODE\\06 Cardiomegali\\P2\\code\\yolov9-main\\datasets\\cardiomegali\\images\\unseen\\AB30_EA_57.jpg: 448x640 1 CC, 1 HC, 27.0ms\n",
      "image 2/24 D:\\CODE\\06 Cardiomegali\\P2\\code\\yolov9-main\\datasets\\cardiomegali\\images\\unseen\\AB30_EA_58.jpg: 448x640 1 CC, 1 HC, 25.0ms\n",
      "image 3/24 D:\\CODE\\06 Cardiomegali\\P2\\code\\yolov9-main\\datasets\\cardiomegali\\images\\unseen\\AB30_EA_59.jpg: 448x640 1 CC, 1 HC, 24.0ms\n",
      "image 4/24 D:\\CODE\\06 Cardiomegali\\P2\\code\\yolov9-main\\datasets\\cardiomegali\\images\\unseen\\AB30_EA_60.jpg: 448x640 1 CC, 1 HC, 22.5ms\n",
      "image 5/24 D:\\CODE\\06 Cardiomegali\\P2\\code\\yolov9-main\\datasets\\cardiomegali\\images\\unseen\\AB30_EA_61.jpg: 448x640 1 CC, 1 HC, 18.0ms\n",
      "image 6/24 D:\\CODE\\06 Cardiomegali\\P2\\code\\yolov9-main\\datasets\\cardiomegali\\images\\unseen\\AB30_EA_62.jpg: 448x640 1 CC, 1 HC, 19.0ms\n",
      "image 7/24 D:\\CODE\\06 Cardiomegali\\P2\\code\\yolov9-main\\datasets\\cardiomegali\\images\\unseen\\EA3_50.jpg: 512x640 1 HC, 20.5ms\n",
      "image 8/24 D:\\CODE\\06 Cardiomegali\\P2\\code\\yolov9-main\\datasets\\cardiomegali\\images\\unseen\\EA3_51.jpg: 512x640 (no detections), 20.0ms\n",
      "image 9/24 D:\\CODE\\06 Cardiomegali\\P2\\code\\yolov9-main\\datasets\\cardiomegali\\images\\unseen\\EA3_52.jpg: 512x640 1 CC, 19.0ms\n",
      "image 10/24 D:\\CODE\\06 Cardiomegali\\P2\\code\\yolov9-main\\datasets\\cardiomegali\\images\\unseen\\EA3_53.jpg: 512x640 (no detections), 20.0ms\n",
      "image 11/24 D:\\CODE\\06 Cardiomegali\\P2\\code\\yolov9-main\\datasets\\cardiomegali\\images\\unseen\\EA3_54.jpg: 512x640 1 CC, 18.5ms\n",
      "image 12/24 D:\\CODE\\06 Cardiomegali\\P2\\code\\yolov9-main\\datasets\\cardiomegali\\images\\unseen\\EA3_55.jpg: 512x640 1 CC, 19.0ms\n",
      "image 13/24 D:\\CODE\\06 Cardiomegali\\P2\\code\\yolov9-main\\datasets\\cardiomegali\\images\\unseen\\NR11_101.jpg: 480x640 1 CC, 1 HC, 19.0ms\n",
      "image 14/24 D:\\CODE\\06 Cardiomegali\\P2\\code\\yolov9-main\\datasets\\cardiomegali\\images\\unseen\\NR11_102.jpg: 480x640 1 CC, 1 HC, 18.5ms\n",
      "image 15/24 D:\\CODE\\06 Cardiomegali\\P2\\code\\yolov9-main\\datasets\\cardiomegali\\images\\unseen\\NR11_103.jpg: 480x640 1 CC, 1 HC, 18.0ms\n",
      "image 16/24 D:\\CODE\\06 Cardiomegali\\P2\\code\\yolov9-main\\datasets\\cardiomegali\\images\\unseen\\NR11_75.jpg: 480x640 1 CC, 1 HC, 19.0ms\n",
      "image 17/24 D:\\CODE\\06 Cardiomegali\\P2\\code\\yolov9-main\\datasets\\cardiomegali\\images\\unseen\\NR11_76.jpg: 480x640 1 CC, 1 HC, 19.0ms\n",
      "image 18/24 D:\\CODE\\06 Cardiomegali\\P2\\code\\yolov9-main\\datasets\\cardiomegali\\images\\unseen\\NR11_94.jpg: 480x640 1 CC, 1 HC, 18.0ms\n",
      "image 19/24 D:\\CODE\\06 Cardiomegali\\P2\\code\\yolov9-main\\datasets\\cardiomegali\\images\\unseen\\NR3_62.jpg: 384x640 1 CC, 1 HC, 17.0ms\n",
      "image 20/24 D:\\CODE\\06 Cardiomegali\\P2\\code\\yolov9-main\\datasets\\cardiomegali\\images\\unseen\\NR3_63.jpg: 384x640 1 CC, 1 HC, 17.0ms\n",
      "image 21/24 D:\\CODE\\06 Cardiomegali\\P2\\code\\yolov9-main\\datasets\\cardiomegali\\images\\unseen\\NR3_64.jpg: 384x640 1 CC, 1 HC, 16.0ms\n",
      "image 22/24 D:\\CODE\\06 Cardiomegali\\P2\\code\\yolov9-main\\datasets\\cardiomegali\\images\\unseen\\NR3_65.jpg: 384x640 1 CC, 1 HC, 16.0ms\n",
      "image 23/24 D:\\CODE\\06 Cardiomegali\\P2\\code\\yolov9-main\\datasets\\cardiomegali\\images\\unseen\\NR3_66.jpg: 384x640 1 CC, 1 HC, 16.0ms\n",
      "image 24/24 D:\\CODE\\06 Cardiomegali\\P2\\code\\yolov9-main\\datasets\\cardiomegali\\images\\unseen\\NR3_67.jpg: 384x640 1 CC, 1 HC, 16.0ms\n",
      "Speed: 0.8ms preprocess, 19.3ms inference, 1.3ms postprocess per image at shape (1, 3, 384, 640)\n",
      "Results saved to \u001b[1mruns\\segment\\predict2\u001b[0m\n"
     ]
    }
   ],
   "source": [
    "from ultralytics import YOLO\n",
    "\n",
    "# Load a pretrained YOLOv8n model\n",
    "model = YOLO(\"runs/segment/yv9c-new/weights/best.pt\")\n",
    "\n",
    "# Define path to directory containing images and videos for inference\n",
    "source = \"D:/CODE/06 Cardiomegali/P2/code/yolov9-main/datasets/cardiomegali/images/unseen\"\n",
    "\n",
    "# Run inference on the source\n",
    "results = model(source, save=True)  # generator of Results objects"
   ]
  },
  {
   "cell_type": "code",
   "execution_count": null,
   "metadata": {},
   "outputs": [],
   "source": []
  }
 ],
 "metadata": {
  "kernelspec": {
   "display_name": "yolov8",
   "language": "python",
   "name": "python3"
  },
  "language_info": {
   "codemirror_mode": {
    "name": "ipython",
    "version": 3
   },
   "file_extension": ".py",
   "mimetype": "text/x-python",
   "name": "python",
   "nbconvert_exporter": "python",
   "pygments_lexer": "ipython3",
   "version": "3.9.18"
  }
 },
 "nbformat": 4,
 "nbformat_minor": 2
}
