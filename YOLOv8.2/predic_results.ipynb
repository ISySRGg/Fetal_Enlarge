{
 "cells": [
  {
   "cell_type": "code",
   "execution_count": null,
   "metadata": {},
   "outputs": [],
   "source": [
    "#python segment/predict.py --weights runs/train-seg/exp2/weights/best.pt --source datasets/cardiomegali/images/val\n",
    "#python segment/val.py --weights runs/train-seg/exp2/weights/best.pt --data data.yaml --img 640  # validate\n",
    "#python segment/val.py --weights runs/train-seg/exp2/weights/best.pt --source datasets/cardiomegali/images/unseen\n"
   ]
  },
  {
   "cell_type": "code",
   "execution_count": null,
   "metadata": {},
   "outputs": [],
   "source": [
    "#training\n",
    "#python segment/train.py --data data.yaml --weights yolov5s-seg.pt --img 640\n",
    "#python segment/train.py --data data.yaml --weights yolov5s-seg.pt --img 640 --epochs 3\n",
    "\n",
    "#python segment/train.py --img 640 --epochs 100 --data data.yaml --weights yolov5x-seg.pt"
   ]
  }
 ],
 "metadata": {
  "kernelspec": {
   "display_name": "yolov8",
   "language": "python",
   "name": "python3"
  },
  "language_info": {
   "codemirror_mode": {
    "name": "ipython",
    "version": 3
   },
   "file_extension": ".py",
   "mimetype": "text/x-python",
   "name": "python",
   "nbconvert_exporter": "python",
   "pygments_lexer": "ipython3",
   "version": "3.9.19"
  }
 },
 "nbformat": 4,
 "nbformat_minor": 2
}
