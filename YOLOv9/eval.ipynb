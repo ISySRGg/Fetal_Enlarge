{
 "cells": [
  {
   "cell_type": "code",
   "execution_count": 4,
   "metadata": {},
   "outputs": [],
   "source": [
    "#python segment/train.py --workers 8 --device 0 --batch 4 --data roboflow_iva_12_filtered.yaml --img 640 --cfg models/segment/gelan-c-seg.yaml --weights '' --name gelan-c-seg --hyp hyp.scratch-high.yaml --no-overlap --epochs 100 --close-mosaic 10\n",
    "\n",
    "# train yolov9 models\n",
    "python train_dual.py --workers 8 --device 0 --batch 16 --data data/roboflow_iva_12_filtered.yaml --img 640 --cfg models/detect/yolov9-c.yaml --weights '' --name yolov9-c --hyp hyp.scratch-high.yaml --min-items 0 --epochs 100 --close-mosaic 15\n",
    "\n",
    "# train gelan models\n",
    "# python train.py --workers 8 --device 0 --batch 32 --data data/coco.yaml --img 640 --cfg models/detect/gelan-c.yaml --weights '' --name gelan-c --hyp hyp.scratch-high.yaml --min-items 0 --epochs 500 --close-mosaic 15"
   ]
  },
  {
   "cell_type": "code",
   "execution_count": null,
   "metadata": {},
   "outputs": [],
   "source": [
    "python val.py --data data/roboflow_iva_12_filtered.yaml --img 640 --batch 32 --conf 0.001 --iou 0.7 --device 0 --weights 'best.pt' --save-json --name yolov9_c_c_640_val"
   ]
  },
  {
   "cell_type": "code",
   "execution_count": null,
   "metadata": {},
   "outputs": [],
   "source": [
    "D:\\CODE\\07 CANCER\\yolov9-main\\runs\\train-seg\\gelan-c-seg3\\weights\n",
    "\n",
    "# evaluate gelan models\n",
    "# python val.py --data data/coco.yaml --img 640 --batch 4 --conf 0.001 --iou 0.7 --device 0 --weights './gelan-c.pt' --save-json --name gelan_c_640_val\n",
    "\n",
    "python detect.py --source './roboflow_iva_12_filtered/valid/images/AAQ1_jpg.rf.98faa14a322a835bcd5a4e626ffae411.jpg' --img 640 --device 0 --weights 'best.pt' --name gelan_c_c_640_detect"
   ]
  }
 ],
 "metadata": {
  "kernelspec": {
   "display_name": "yv9",
   "language": "python",
   "name": "python3"
  },
  "language_info": {
   "codemirror_mode": {
    "name": "ipython",
    "version": 3
   },
   "file_extension": ".py",
   "mimetype": "text/x-python",
   "name": "python",
   "nbconvert_exporter": "python",
   "pygments_lexer": "ipython3",
   "version": "3.9.18"
  }
 },
 "nbformat": 4,
 "nbformat_minor": 2
}
